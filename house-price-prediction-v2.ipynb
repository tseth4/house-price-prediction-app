{
 "cells": [
  {
   "cell_type": "code",
   "execution_count": 1,
   "id": "3be66f06-285e-4702-92ae-695b3ef6b1f6",
   "metadata": {},
   "outputs": [],
   "source": [
    "import numpy as np\n",
    "import pandas as pd\n",
    "import matplotlib.pyplot as plt\n",
    "import sklearn\n",
    "from sklearn.preprocessing import StandardScaler\n",
    "from sklearn.model_selection import train_test_split\n",
    "from sklearn.linear_model import LinearRegression\n",
    "from sklearn.metrics import mean_squared_error, mean_absolute_error, r2_score\n",
    "from sklearn.preprocessing import PolynomialFeatures\n"
   ]
  },
  {
   "cell_type": "code",
   "execution_count": 2,
   "id": "4ab6b2d5-fa0f-404b-9927-029ba6d772ba",
   "metadata": {},
   "outputs": [
    {
     "name": "stdout",
     "output_type": "stream",
     "text": [
      "Hello World!\n"
     ]
    }
   ],
   "source": [
    "print(\"Hello World!\")"
   ]
  },
  {
   "cell_type": "code",
   "execution_count": 3,
   "id": "f36a5cb4-bac7-4f66-bdb9-6869f0ea9f7a",
   "metadata": {},
   "outputs": [
    {
     "data": {
      "text/html": [
       "<div>\n",
       "<style scoped>\n",
       "    .dataframe tbody tr th:only-of-type {\n",
       "        vertical-align: middle;\n",
       "    }\n",
       "\n",
       "    .dataframe tbody tr th {\n",
       "        vertical-align: top;\n",
       "    }\n",
       "\n",
       "    .dataframe thead th {\n",
       "        text-align: right;\n",
       "    }\n",
       "</style>\n",
       "<table border=\"1\" class=\"dataframe\">\n",
       "  <thead>\n",
       "    <tr style=\"text-align: right;\">\n",
       "      <th></th>\n",
       "      <th>0</th>\n",
       "      <th>1</th>\n",
       "      <th>2</th>\n",
       "      <th>3</th>\n",
       "      <th>4</th>\n",
       "    </tr>\n",
       "  </thead>\n",
       "  <tbody>\n",
       "    <tr>\n",
       "      <th>brokered_by</th>\n",
       "      <td>103378.0</td>\n",
       "      <td>52707.0</td>\n",
       "      <td>103379.0</td>\n",
       "      <td>31239.0</td>\n",
       "      <td>34632.0</td>\n",
       "    </tr>\n",
       "    <tr>\n",
       "      <th>status</th>\n",
       "      <td>for_sale</td>\n",
       "      <td>for_sale</td>\n",
       "      <td>for_sale</td>\n",
       "      <td>for_sale</td>\n",
       "      <td>for_sale</td>\n",
       "    </tr>\n",
       "    <tr>\n",
       "      <th>price</th>\n",
       "      <td>105000.0</td>\n",
       "      <td>80000.0</td>\n",
       "      <td>67000.0</td>\n",
       "      <td>145000.0</td>\n",
       "      <td>65000.0</td>\n",
       "    </tr>\n",
       "    <tr>\n",
       "      <th>bed</th>\n",
       "      <td>3.0</td>\n",
       "      <td>4.0</td>\n",
       "      <td>2.0</td>\n",
       "      <td>4.0</td>\n",
       "      <td>6.0</td>\n",
       "    </tr>\n",
       "    <tr>\n",
       "      <th>bath</th>\n",
       "      <td>2.0</td>\n",
       "      <td>2.0</td>\n",
       "      <td>1.0</td>\n",
       "      <td>2.0</td>\n",
       "      <td>2.0</td>\n",
       "    </tr>\n",
       "    <tr>\n",
       "      <th>acre_lot</th>\n",
       "      <td>0.12</td>\n",
       "      <td>0.08</td>\n",
       "      <td>0.15</td>\n",
       "      <td>0.1</td>\n",
       "      <td>0.05</td>\n",
       "    </tr>\n",
       "    <tr>\n",
       "      <th>street</th>\n",
       "      <td>1962661.0</td>\n",
       "      <td>1902874.0</td>\n",
       "      <td>1404990.0</td>\n",
       "      <td>1947675.0</td>\n",
       "      <td>331151.0</td>\n",
       "    </tr>\n",
       "    <tr>\n",
       "      <th>city</th>\n",
       "      <td>Adjuntas</td>\n",
       "      <td>Adjuntas</td>\n",
       "      <td>Juana Diaz</td>\n",
       "      <td>Ponce</td>\n",
       "      <td>Mayaguez</td>\n",
       "    </tr>\n",
       "    <tr>\n",
       "      <th>state</th>\n",
       "      <td>Puerto Rico</td>\n",
       "      <td>Puerto Rico</td>\n",
       "      <td>Puerto Rico</td>\n",
       "      <td>Puerto Rico</td>\n",
       "      <td>Puerto Rico</td>\n",
       "    </tr>\n",
       "    <tr>\n",
       "      <th>zip_code</th>\n",
       "      <td>601.0</td>\n",
       "      <td>601.0</td>\n",
       "      <td>795.0</td>\n",
       "      <td>731.0</td>\n",
       "      <td>680.0</td>\n",
       "    </tr>\n",
       "    <tr>\n",
       "      <th>house_size</th>\n",
       "      <td>920.0</td>\n",
       "      <td>1527.0</td>\n",
       "      <td>748.0</td>\n",
       "      <td>1800.0</td>\n",
       "      <td>NaN</td>\n",
       "    </tr>\n",
       "    <tr>\n",
       "      <th>prev_sold_date</th>\n",
       "      <td>NaN</td>\n",
       "      <td>NaN</td>\n",
       "      <td>NaN</td>\n",
       "      <td>NaN</td>\n",
       "      <td>NaN</td>\n",
       "    </tr>\n",
       "  </tbody>\n",
       "</table>\n",
       "</div>"
      ],
      "text/plain": [
       "                          0            1            2            3  \\\n",
       "brokered_by        103378.0      52707.0     103379.0      31239.0   \n",
       "status             for_sale     for_sale     for_sale     for_sale   \n",
       "price              105000.0      80000.0      67000.0     145000.0   \n",
       "bed                     3.0          4.0          2.0          4.0   \n",
       "bath                    2.0          2.0          1.0          2.0   \n",
       "acre_lot               0.12         0.08         0.15          0.1   \n",
       "street            1962661.0    1902874.0    1404990.0    1947675.0   \n",
       "city               Adjuntas     Adjuntas   Juana Diaz        Ponce   \n",
       "state           Puerto Rico  Puerto Rico  Puerto Rico  Puerto Rico   \n",
       "zip_code              601.0        601.0        795.0        731.0   \n",
       "house_size            920.0       1527.0        748.0       1800.0   \n",
       "prev_sold_date          NaN          NaN          NaN          NaN   \n",
       "\n",
       "                          4  \n",
       "brokered_by         34632.0  \n",
       "status             for_sale  \n",
       "price               65000.0  \n",
       "bed                     6.0  \n",
       "bath                    2.0  \n",
       "acre_lot               0.05  \n",
       "street             331151.0  \n",
       "city               Mayaguez  \n",
       "state           Puerto Rico  \n",
       "zip_code              680.0  \n",
       "house_size              NaN  \n",
       "prev_sold_date          NaN  "
      ]
     },
     "execution_count": 3,
     "metadata": {},
     "output_type": "execute_result"
    }
   ],
   "source": [
    "df = pd.read_csv(\"data/realtor-data.csv\", low_memory=False)\n",
    "df.head().T"
   ]
  },
  {
   "cell_type": "code",
   "execution_count": 4,
   "id": "43481c89-b195-4c6b-9912-c3f5e2d786b0",
   "metadata": {},
   "outputs": [
    {
     "data": {
      "text/plain": [
       "(2226382, 12)"
      ]
     },
     "execution_count": 4,
     "metadata": {},
     "output_type": "execute_result"
    }
   ],
   "source": [
    "df.shape"
   ]
  },
  {
   "cell_type": "code",
   "execution_count": 5,
   "id": "d26b87db-83f0-4eb2-bab6-6b1a009acb3e",
   "metadata": {},
   "outputs": [],
   "source": [
    "# df['state'].value_counts()"
   ]
  },
  {
   "cell_type": "markdown",
   "id": "38eb8ecc-8814-49f7-9413-cab23d54f90e",
   "metadata": {},
   "source": [
    "## Preprocess"
   ]
  },
  {
   "cell_type": "code",
   "execution_count": 6,
   "id": "638e0630-b530-4a9b-b2d3-bf142c8672a9",
   "metadata": {},
   "outputs": [
    {
     "data": {
      "text/plain": [
       "(2226382, 12)"
      ]
     },
     "execution_count": 6,
     "metadata": {},
     "output_type": "execute_result"
    }
   ],
   "source": [
    "df.shape"
   ]
  },
  {
   "cell_type": "code",
   "execution_count": 7,
   "id": "4f1426f6-1f65-4ad6-9b16-aded356a5c41",
   "metadata": {},
   "outputs": [
    {
     "name": "stdout",
     "output_type": "stream",
     "text": [
      "brokered_by         4533\n",
      "status                 0\n",
      "price                  0\n",
      "bed                    0\n",
      "bath                   0\n",
      "acre_lot               0\n",
      "street             10866\n",
      "city                1407\n",
      "state                  0\n",
      "zip_code             299\n",
      "house_size             0\n",
      "prev_sold_date    734297\n",
      "dtype: int64\n"
     ]
    }
   ],
   "source": [
    "from sklearn.preprocessing import LabelEncoder\n",
    "\n",
    "## Labels turns categorical data into numerical values useful for many categories.\n",
    "## If we used one hot encoding it would create too many columns\n",
    "le = LabelEncoder()\n",
    "df['state'] = le.fit_transform(df['state'])\n",
    "\n",
    "# Fill missing values\n",
    "df['price'] = df['price'].fillna(df['price'].median())\n",
    "df['house_size'] = df['house_size'].fillna(df['house_size'].median())\n",
    "df['acre_lot'] = df['acre_lot'].fillna(df['acre_lot'].median())\n",
    "df['bed'] = df['bed'].fillna(df['bed'].mode()[0])\n",
    "df['bath'] = df['bath'].fillna(df['bath'].mode()[0])\n",
    "# df['city'] = df['city'].fillna('Unknown')\n",
    "\n",
    "\n",
    "\n",
    "\n",
    "\n",
    "\n",
    "print(df.isnull().sum())  # Identify missing values\n"
   ]
  },
  {
   "cell_type": "code",
   "execution_count": 8,
   "id": "d5b98ce0-29c5-4b40-9552-321e4bdda191",
   "metadata": {},
   "outputs": [
    {
     "data": {
      "text/plain": [
       "city\n",
       "Houston                        1.072461e-02\n",
       "Chicago                        8.196946e-03\n",
       "New York City                  5.678266e-03\n",
       "Jacksonville                   5.277812e-03\n",
       "Philadelphia                   4.696233e-03\n",
       "                                   ...     \n",
       "Angel Ifre                     4.494433e-07\n",
       "Colfax County Moreno Valley    4.494433e-07\n",
       "Little Sioux                   4.494433e-07\n",
       "Trementina                     4.494433e-07\n",
       "Kahlotus                       4.494433e-07\n",
       "Name: proportion, Length: 20098, dtype: float64"
      ]
     },
     "execution_count": 8,
     "metadata": {},
     "output_type": "execute_result"
    }
   ],
   "source": [
    "df.head().T\n",
    "city_counts = df['city'].value_counts(normalize=True)\n",
    "city_counts"
   ]
  },
  {
   "cell_type": "code",
   "execution_count": 9,
   "id": "639c8746-6989-4de9-9798-fbdcb6d531a6",
   "metadata": {},
   "outputs": [],
   "source": [
    "# # Convert data types\n",
    "# df['city'] = df['city'].astype('category')  # Convert to category\n",
    "# df['state'] = df['state'].astype('category')  # Categorical if used for prediction\\\n",
    "# df['bed'] = df['bed'].astype('int32')  # Convert to integer\n",
    "# df['bath'] = df['bath'].astype('float32')  # Float for fractional values\n",
    "# df['acre_lot'] = df['acre_lot'].astype('float32')  # Float for memory efficiency\n",
    "\n",
    "# # Convert date column to datetime\n",
    "# df['prev_sold_date'] = pd.to_datetime(df['prev_sold_date'], errors='coerce')  # Handle invalid dates\n",
    "\n",
    "# # Drop unnecessary columns\n",
    "# df.drop(['brokered_by', 'status', 'street'], axis=1, inplace=True)\n"
   ]
  },
  {
   "cell_type": "code",
   "execution_count": 10,
   "id": "370c3d55-38bd-4e89-bb76-500c5cac4b98",
   "metadata": {},
   "outputs": [],
   "source": [
    "# Compute mean price for each city\n",
    "city_price_avg = df.groupby('city')['price'].mean()\n",
    "\n",
    "# Map the mean price to the city column\n",
    "df['city_encoded'] = df['city'].map(city_price_avg)\n",
    "\n",
    "# state average price\n",
    "state_price_avg = df.groupby('state')['price'].mean()\n",
    "\n",
    "# Replace missing or rare cities with the state mean\n",
    "df['city_encoded'] = df['city_encoded'].fillna(df['state'].map(state_price_avg))\n",
    "\n"
   ]
  },
  {
   "cell_type": "code",
   "execution_count": 11,
   "id": "ce7c0e01-d3d2-41ef-80c7-d448b094e5cb",
   "metadata": {},
   "outputs": [],
   "source": [
    "# Drop the original city column\n",
    "df.drop(['city'], axis=1, inplace=True)"
   ]
  },
  {
   "cell_type": "code",
   "execution_count": 12,
   "id": "26b2d270-baec-4940-96d0-e10838973d32",
   "metadata": {},
   "outputs": [
    {
     "data": {
      "text/html": [
       "<div>\n",
       "<style scoped>\n",
       "    .dataframe tbody tr th:only-of-type {\n",
       "        vertical-align: middle;\n",
       "    }\n",
       "\n",
       "    .dataframe tbody tr th {\n",
       "        vertical-align: top;\n",
       "    }\n",
       "\n",
       "    .dataframe thead th {\n",
       "        text-align: right;\n",
       "    }\n",
       "</style>\n",
       "<table border=\"1\" class=\"dataframe\">\n",
       "  <thead>\n",
       "    <tr style=\"text-align: right;\">\n",
       "      <th></th>\n",
       "      <th>0</th>\n",
       "      <th>1</th>\n",
       "      <th>2</th>\n",
       "      <th>3</th>\n",
       "      <th>4</th>\n",
       "    </tr>\n",
       "  </thead>\n",
       "  <tbody>\n",
       "    <tr>\n",
       "      <th>brokered_by</th>\n",
       "      <td>103378.0</td>\n",
       "      <td>52707.0</td>\n",
       "      <td>103379.0</td>\n",
       "      <td>31239.0</td>\n",
       "      <td>34632.0</td>\n",
       "    </tr>\n",
       "    <tr>\n",
       "      <th>status</th>\n",
       "      <td>for_sale</td>\n",
       "      <td>for_sale</td>\n",
       "      <td>for_sale</td>\n",
       "      <td>for_sale</td>\n",
       "      <td>for_sale</td>\n",
       "    </tr>\n",
       "    <tr>\n",
       "      <th>price</th>\n",
       "      <td>105000.0</td>\n",
       "      <td>80000.0</td>\n",
       "      <td>67000.0</td>\n",
       "      <td>145000.0</td>\n",
       "      <td>65000.0</td>\n",
       "    </tr>\n",
       "    <tr>\n",
       "      <th>bed</th>\n",
       "      <td>3.0</td>\n",
       "      <td>4.0</td>\n",
       "      <td>2.0</td>\n",
       "      <td>4.0</td>\n",
       "      <td>6.0</td>\n",
       "    </tr>\n",
       "    <tr>\n",
       "      <th>bath</th>\n",
       "      <td>2.0</td>\n",
       "      <td>2.0</td>\n",
       "      <td>1.0</td>\n",
       "      <td>2.0</td>\n",
       "      <td>2.0</td>\n",
       "    </tr>\n",
       "    <tr>\n",
       "      <th>acre_lot</th>\n",
       "      <td>0.12</td>\n",
       "      <td>0.08</td>\n",
       "      <td>0.15</td>\n",
       "      <td>0.1</td>\n",
       "      <td>0.05</td>\n",
       "    </tr>\n",
       "    <tr>\n",
       "      <th>street</th>\n",
       "      <td>1962661.0</td>\n",
       "      <td>1902874.0</td>\n",
       "      <td>1404990.0</td>\n",
       "      <td>1947675.0</td>\n",
       "      <td>331151.0</td>\n",
       "    </tr>\n",
       "    <tr>\n",
       "      <th>state</th>\n",
       "      <td>41</td>\n",
       "      <td>41</td>\n",
       "      <td>41</td>\n",
       "      <td>41</td>\n",
       "      <td>41</td>\n",
       "    </tr>\n",
       "    <tr>\n",
       "      <th>zip_code</th>\n",
       "      <td>601.0</td>\n",
       "      <td>601.0</td>\n",
       "      <td>795.0</td>\n",
       "      <td>731.0</td>\n",
       "      <td>680.0</td>\n",
       "    </tr>\n",
       "    <tr>\n",
       "      <th>house_size</th>\n",
       "      <td>920.0</td>\n",
       "      <td>1527.0</td>\n",
       "      <td>748.0</td>\n",
       "      <td>1800.0</td>\n",
       "      <td>1760.0</td>\n",
       "    </tr>\n",
       "    <tr>\n",
       "      <th>prev_sold_date</th>\n",
       "      <td>NaN</td>\n",
       "      <td>NaN</td>\n",
       "      <td>NaN</td>\n",
       "      <td>NaN</td>\n",
       "      <td>NaN</td>\n",
       "    </tr>\n",
       "    <tr>\n",
       "      <th>city_encoded</th>\n",
       "      <td>92500.0</td>\n",
       "      <td>92500.0</td>\n",
       "      <td>109105.882353</td>\n",
       "      <td>216499.864198</td>\n",
       "      <td>169878.203125</td>\n",
       "    </tr>\n",
       "  </tbody>\n",
       "</table>\n",
       "</div>"
      ],
      "text/plain": [
       "                        0          1              2              3  \\\n",
       "brokered_by      103378.0    52707.0       103379.0        31239.0   \n",
       "status           for_sale   for_sale       for_sale       for_sale   \n",
       "price            105000.0    80000.0        67000.0       145000.0   \n",
       "bed                   3.0        4.0            2.0            4.0   \n",
       "bath                  2.0        2.0            1.0            2.0   \n",
       "acre_lot             0.12       0.08           0.15            0.1   \n",
       "street          1962661.0  1902874.0      1404990.0      1947675.0   \n",
       "state                  41         41             41             41   \n",
       "zip_code            601.0      601.0          795.0          731.0   \n",
       "house_size          920.0     1527.0          748.0         1800.0   \n",
       "prev_sold_date        NaN        NaN            NaN            NaN   \n",
       "city_encoded      92500.0    92500.0  109105.882353  216499.864198   \n",
       "\n",
       "                            4  \n",
       "brokered_by           34632.0  \n",
       "status               for_sale  \n",
       "price                 65000.0  \n",
       "bed                       6.0  \n",
       "bath                      2.0  \n",
       "acre_lot                 0.05  \n",
       "street               331151.0  \n",
       "state                      41  \n",
       "zip_code                680.0  \n",
       "house_size             1760.0  \n",
       "prev_sold_date            NaN  \n",
       "city_encoded    169878.203125  "
      ]
     },
     "execution_count": 12,
     "metadata": {},
     "output_type": "execute_result"
    }
   ],
   "source": [
    "df.head().T"
   ]
  },
  {
   "cell_type": "code",
   "execution_count": 13,
   "id": "e0ce7a32-26fe-458b-b597-e39f36217a5f",
   "metadata": {},
   "outputs": [
    {
     "data": {
      "image/png": "[encoded data removed]",
      "text/plain": [
       "<Figure size 640x480 with 1 Axes>"
      ]
     },
     "metadata": {},
     "output_type": "display_data"
    }
   ],
   "source": [
    "# Searching for outliers in price\n",
    "plt.scatter(df['city_encoded'], df['price'])\n",
    "plt.title('Scatter Plot of City vs Price')\n",
    "plt.xlabel('city_encoded')\n",
    "plt.ylabel('Price')\n",
    "plt.show()\n",
    "\n"
   ]
  },
  {
   "cell_type": "code",
   "execution_count": 14,
   "id": "6ec5bbbe-ac9a-4240-8cbe-f04c518fce8a",
   "metadata": {},
   "outputs": [],
   "source": [
    "# Remove outliers in price\n",
    "Q1 = df['price'].quantile(0.25)\n",
    "Q3 = df['price'].quantile(0.75)\n",
    "IQR = Q3 - Q1\n",
    "df = df[(df['price'] >= Q1 - 1.5 * IQR) & (df['price'] <= Q3 + 1.5 * IQR)]\n"
   ]
  },
  {
   "cell_type": "code",
   "execution_count": 15,
   "id": "053d294c-df8d-4958-baf5-3a3bde541f2f",
   "metadata": {},
   "outputs": [
    {
     "data": {
      "image/png": "[encoded data removed]",
      "text/plain": [
       "<Figure size 640x480 with 1 Axes>"
      ]
     },
     "metadata": {},
     "output_type": "display_data"
    }
   ],
   "source": [
    "plt.scatter(df['city_encoded'], df['price'])\n",
    "plt.title('Scatter Plot of City vs Price')\n",
    "plt.xlabel('city_encoded')\n",
    "plt.ylabel('Price')\n",
    "plt.show()\n"
   ]
  },
  {
   "cell_type": "code",
   "execution_count": 16,
   "id": "41e88a32-7608-4fc2-95b2-7ff168fa10bc",
   "metadata": {},
   "outputs": [],
   "source": [
    "# Remove outliers in city\n",
    "# Calculate IQR\n",
    "Q1 = df['city_encoded'].quantile(0.25)\n",
    "Q3 = df['city_encoded'].quantile(0.75)\n",
    "IQR = Q3 - Q1\n",
    "\n",
    "# Define outlier thresholds\n",
    "lower_bound = Q1 - 1.5 * IQR\n",
    "upper_bound = Q3 + 1.5 * IQR\n",
    "\n",
    "# Clip outliers\n",
    "df['city_encoded'] = df['city_encoded'].clip(lower=lower_bound, upper=upper_bound)"
   ]
  },
  {
   "cell_type": "code",
   "execution_count": 17,
   "id": "d183c4c7-ff83-4830-9232-b5e7a778d22b",
   "metadata": {},
   "outputs": [
    {
     "data": {
      "image/png": "[encoded data removed]",
      "text/plain": [
       "<Figure size 640x480 with 1 Axes>"
      ]
     },
     "metadata": {},
     "output_type": "display_data"
    }
   ],
   "source": [
    "plt.scatter(df['city_encoded'], df['price'])\n",
    "plt.title('Scatter Plot of City vs Price')\n",
    "plt.xlabel('city_encoded')\n",
    "plt.ylabel('Price')\n",
    "plt.show()"
   ]
  },
  {
   "cell_type": "code",
   "execution_count": 18,
   "id": "d6136c6c-4a1c-4f7c-ae4c-117bf4b527fa",
   "metadata": {},
   "outputs": [
    {
     "data": {
      "text/plain": [
       "(2054782, 12)"
      ]
     },
     "execution_count": 18,
     "metadata": {},
     "output_type": "execute_result"
    }
   ],
   "source": [
    "df.shape"
   ]
  },
  {
   "cell_type": "code",
   "execution_count": 19,
   "id": "3252103b-2240-404e-a000-7a94a182bbef",
   "metadata": {},
   "outputs": [
    {
     "data": {
      "text/html": [
       "<div>\n",
       "<style scoped>\n",
       "    .dataframe tbody tr th:only-of-type {\n",
       "        vertical-align: middle;\n",
       "    }\n",
       "\n",
       "    .dataframe tbody tr th {\n",
       "        vertical-align: top;\n",
       "    }\n",
       "\n",
       "    .dataframe thead th {\n",
       "        text-align: right;\n",
       "    }\n",
       "</style>\n",
       "<table border=\"1\" class=\"dataframe\">\n",
       "  <thead>\n",
       "    <tr style=\"text-align: right;\">\n",
       "      <th></th>\n",
       "      <th>0</th>\n",
       "      <th>1</th>\n",
       "      <th>2</th>\n",
       "      <th>3</th>\n",
       "      <th>4</th>\n",
       "    </tr>\n",
       "  </thead>\n",
       "  <tbody>\n",
       "    <tr>\n",
       "      <th>brokered_by</th>\n",
       "      <td>103378.0</td>\n",
       "      <td>52707.0</td>\n",
       "      <td>103379.0</td>\n",
       "      <td>31239.0</td>\n",
       "      <td>34632.0</td>\n",
       "    </tr>\n",
       "    <tr>\n",
       "      <th>status</th>\n",
       "      <td>for_sale</td>\n",
       "      <td>for_sale</td>\n",
       "      <td>for_sale</td>\n",
       "      <td>for_sale</td>\n",
       "      <td>for_sale</td>\n",
       "    </tr>\n",
       "    <tr>\n",
       "      <th>price</th>\n",
       "      <td>105000.0</td>\n",
       "      <td>80000.0</td>\n",
       "      <td>67000.0</td>\n",
       "      <td>145000.0</td>\n",
       "      <td>65000.0</td>\n",
       "    </tr>\n",
       "    <tr>\n",
       "      <th>bed</th>\n",
       "      <td>3.0</td>\n",
       "      <td>4.0</td>\n",
       "      <td>2.0</td>\n",
       "      <td>4.0</td>\n",
       "      <td>6.0</td>\n",
       "    </tr>\n",
       "    <tr>\n",
       "      <th>bath</th>\n",
       "      <td>2.0</td>\n",
       "      <td>2.0</td>\n",
       "      <td>1.0</td>\n",
       "      <td>2.0</td>\n",
       "      <td>2.0</td>\n",
       "    </tr>\n",
       "    <tr>\n",
       "      <th>acre_lot</th>\n",
       "      <td>0.12</td>\n",
       "      <td>0.08</td>\n",
       "      <td>0.15</td>\n",
       "      <td>0.1</td>\n",
       "      <td>0.05</td>\n",
       "    </tr>\n",
       "    <tr>\n",
       "      <th>street</th>\n",
       "      <td>1962661.0</td>\n",
       "      <td>1902874.0</td>\n",
       "      <td>1404990.0</td>\n",
       "      <td>1947675.0</td>\n",
       "      <td>331151.0</td>\n",
       "    </tr>\n",
       "    <tr>\n",
       "      <th>state</th>\n",
       "      <td>41</td>\n",
       "      <td>41</td>\n",
       "      <td>41</td>\n",
       "      <td>41</td>\n",
       "      <td>41</td>\n",
       "    </tr>\n",
       "    <tr>\n",
       "      <th>zip_code</th>\n",
       "      <td>601.0</td>\n",
       "      <td>601.0</td>\n",
       "      <td>795.0</td>\n",
       "      <td>731.0</td>\n",
       "      <td>680.0</td>\n",
       "    </tr>\n",
       "    <tr>\n",
       "      <th>house_size</th>\n",
       "      <td>920.0</td>\n",
       "      <td>1527.0</td>\n",
       "      <td>748.0</td>\n",
       "      <td>1800.0</td>\n",
       "      <td>1760.0</td>\n",
       "    </tr>\n",
       "    <tr>\n",
       "      <th>prev_sold_date</th>\n",
       "      <td>NaN</td>\n",
       "      <td>NaN</td>\n",
       "      <td>NaN</td>\n",
       "      <td>NaN</td>\n",
       "      <td>NaN</td>\n",
       "    </tr>\n",
       "    <tr>\n",
       "      <th>city_encoded</th>\n",
       "      <td>92500.0</td>\n",
       "      <td>92500.0</td>\n",
       "      <td>109105.882353</td>\n",
       "      <td>216499.864198</td>\n",
       "      <td>169878.203125</td>\n",
       "    </tr>\n",
       "  </tbody>\n",
       "</table>\n",
       "</div>"
      ],
      "text/plain": [
       "                        0          1              2              3  \\\n",
       "brokered_by      103378.0    52707.0       103379.0        31239.0   \n",
       "status           for_sale   for_sale       for_sale       for_sale   \n",
       "price            105000.0    80000.0        67000.0       145000.0   \n",
       "bed                   3.0        4.0            2.0            4.0   \n",
       "bath                  2.0        2.0            1.0            2.0   \n",
       "acre_lot             0.12       0.08           0.15            0.1   \n",
       "street          1962661.0  1902874.0      1404990.0      1947675.0   \n",
       "state                  41         41             41             41   \n",
       "zip_code            601.0      601.0          795.0          731.0   \n",
       "house_size          920.0     1527.0          748.0         1800.0   \n",
       "prev_sold_date        NaN        NaN            NaN            NaN   \n",
       "city_encoded      92500.0    92500.0  109105.882353  216499.864198   \n",
       "\n",
       "                            4  \n",
       "brokered_by           34632.0  \n",
       "status               for_sale  \n",
       "price                 65000.0  \n",
       "bed                       6.0  \n",
       "bath                      2.0  \n",
       "acre_lot                 0.05  \n",
       "street               331151.0  \n",
       "state                      41  \n",
       "zip_code                680.0  \n",
       "house_size             1760.0  \n",
       "prev_sold_date            NaN  \n",
       "city_encoded    169878.203125  "
      ]
     },
     "execution_count": 19,
     "metadata": {},
     "output_type": "execute_result"
    }
   ],
   "source": [
    "df.head().T\n"
   ]
  },
  {
   "cell_type": "code",
   "execution_count": 20,
   "id": "94ddf1a5-bc73-4acb-8e2e-1e3d940e6f0b",
   "metadata": {},
   "outputs": [
    {
     "data": {
      "text/plain": [
       "status\n",
       "for_sale          1271105\n",
       "sold               759179\n",
       "ready_to_build      24498\n",
       "Name: count, dtype: int64"
      ]
     },
     "execution_count": 20,
     "metadata": {},
     "output_type": "execute_result"
    }
   ],
   "source": [
    "df[\"status\"].value_counts()"
   ]
  },
  {
   "cell_type": "code",
   "execution_count": 21,
   "id": "845636ca-8a77-4077-9730-e532419965ed",
   "metadata": {},
   "outputs": [
    {
     "data": {
      "image/png": "[encoded data removed]",
      "text/plain": [
       "<Figure size 640x480 with 1 Axes>"
      ]
     },
     "metadata": {},
     "output_type": "display_data"
    }
   ],
   "source": [
    "# Calculate the mean price for each zip code\n",
    "zip_code_avg_price = df.groupby('zip_code')['price'].mean()\n",
    "\n",
    "# Map the mean price to the zip_code_encoded column\n",
    "df['zip_code_encoded'] = df['zip_code'].map(zip_code_avg_price)\n",
    "# df = pd.get_dummies(df, columns=['zip_code'], prefix='zip')\n",
    "# df.head().T\n",
    "# Scatter plot of zip codes vs. price (after target encoding)\n",
    "plt.scatter(df['zip_code_encoded'], df['price'])\n",
    "plt.title('Zip Code vs Price (Encoded by Mean Price)')\n",
    "plt.xlabel('Zip Code (Encoded)')\n",
    "plt.ylabel('Price')\n",
    "plt.show()"
   ]
  },
  {
   "cell_type": "code",
   "execution_count": 22,
   "id": "1ec52246-6368-4630-80d2-2c00ce250d0d",
   "metadata": {},
   "outputs": [
    {
     "name": "stdout",
     "output_type": "stream",
     "text": [
      "                  zip_code_encoded  city_encoded     price\n",
      "zip_code_encoded          1.000000      0.759956  0.687905\n",
      "city_encoded              0.759956      1.000000  0.532368\n",
      "price                     0.687905      0.532368  1.000000\n"
     ]
    }
   ],
   "source": [
    "# Deciding whether to keep city or zip by correaltion matrix\n",
    "# remember city and zip is now the mean price of all prices within the city / mzip\n",
    "correlation_matrix = df[['zip_code_encoded', 'city_encoded', 'price']].corr()\n",
    "print(correlation_matrix)\n",
    "# Conclusion average price within a zip has more correlation to price than city. Multiple cities can share a zip."
   ]
  },
  {
   "cell_type": "code",
   "execution_count": 23,
   "id": "3a62cf60-c1ba-44b7-b23f-d207a0b32d89",
   "metadata": {},
   "outputs": [
    {
     "name": "stdout",
     "output_type": "stream",
     "text": [
      "City Encoded Importance: 0.08385041528628986, Zip Code Importance: 0.9161495847137101\n"
     ]
    }
   ],
   "source": [
    "# Using feature important to test if zip or city has more importance\n",
    "# Randomly sample 10% of the data.\n",
    "sampled_df = df.sample(frac=0.1, random_state=42)\n",
    "\n",
    "# Test feature importance on the smaller dataset\n",
    "from sklearn.ensemble import RandomForestRegressor\n",
    "\n",
    "X = sampled_df[['zip_code_encoded', 'city_encoded']]\n",
    "y = sampled_df['price']\n",
    "\n",
    "model = RandomForestRegressor()\n",
    "model.fit(X, y)\n",
    "\n",
    "# Get feature importance\n",
    "importance = model.feature_importances_\n",
    "print(f\"City Encoded Importance: {importance[1]}, Zip Code Importance: {importance[0]}\")\n",
    "\n"
   ]
  },
  {
   "cell_type": "code",
   "execution_count": 24,
   "id": "b4ae4962-7669-4348-ad89-f8566b4183e7",
   "metadata": {},
   "outputs": [],
   "source": [
    "# Drop unimportant columns\n",
    "df.drop(['brokered_by', 'street', 'status', 'prev_sold_date', 'city_encoded', 'zip_code'], axis=1, inplace=True)\n",
    "# df.drop(['brokered_by', 'street', 'status', 'prev_sold_date'], axis=1, inplace=True)\n"
   ]
  },
  {
   "cell_type": "code",
   "execution_count": 25,
   "id": "10ee7390-f4f7-4f62-8647-734db476e1cd",
   "metadata": {},
   "outputs": [
    {
     "data": {
      "text/html": [
       "<div>\n",
       "<style scoped>\n",
       "    .dataframe tbody tr th:only-of-type {\n",
       "        vertical-align: middle;\n",
       "    }\n",
       "\n",
       "    .dataframe tbody tr th {\n",
       "        vertical-align: top;\n",
       "    }\n",
       "\n",
       "    .dataframe thead th {\n",
       "        text-align: right;\n",
       "    }\n",
       "</style>\n",
       "<table border=\"1\" class=\"dataframe\">\n",
       "  <thead>\n",
       "    <tr style=\"text-align: right;\">\n",
       "      <th></th>\n",
       "      <th>0</th>\n",
       "      <th>1</th>\n",
       "      <th>2</th>\n",
       "      <th>3</th>\n",
       "      <th>4</th>\n",
       "    </tr>\n",
       "  </thead>\n",
       "  <tbody>\n",
       "    <tr>\n",
       "      <th>price</th>\n",
       "      <td>105000.00</td>\n",
       "      <td>80000.00</td>\n",
       "      <td>67000.00</td>\n",
       "      <td>145000.000000</td>\n",
       "      <td>65000.000000</td>\n",
       "    </tr>\n",
       "    <tr>\n",
       "      <th>bed</th>\n",
       "      <td>3.00</td>\n",
       "      <td>4.00</td>\n",
       "      <td>2.00</td>\n",
       "      <td>4.000000</td>\n",
       "      <td>6.000000</td>\n",
       "    </tr>\n",
       "    <tr>\n",
       "      <th>bath</th>\n",
       "      <td>2.00</td>\n",
       "      <td>2.00</td>\n",
       "      <td>1.00</td>\n",
       "      <td>2.000000</td>\n",
       "      <td>2.000000</td>\n",
       "    </tr>\n",
       "    <tr>\n",
       "      <th>acre_lot</th>\n",
       "      <td>0.12</td>\n",
       "      <td>0.08</td>\n",
       "      <td>0.15</td>\n",
       "      <td>0.100000</td>\n",
       "      <td>0.050000</td>\n",
       "    </tr>\n",
       "    <tr>\n",
       "      <th>state</th>\n",
       "      <td>41.00</td>\n",
       "      <td>41.00</td>\n",
       "      <td>41.00</td>\n",
       "      <td>41.000000</td>\n",
       "      <td>41.000000</td>\n",
       "    </tr>\n",
       "    <tr>\n",
       "      <th>house_size</th>\n",
       "      <td>920.00</td>\n",
       "      <td>1527.00</td>\n",
       "      <td>748.00</td>\n",
       "      <td>1800.000000</td>\n",
       "      <td>1760.000000</td>\n",
       "    </tr>\n",
       "    <tr>\n",
       "      <th>zip_code_encoded</th>\n",
       "      <td>92500.00</td>\n",
       "      <td>92500.00</td>\n",
       "      <td>108112.50</td>\n",
       "      <td>155228.571429</td>\n",
       "      <td>147542.659574</td>\n",
       "    </tr>\n",
       "  </tbody>\n",
       "</table>\n",
       "</div>"
      ],
      "text/plain": [
       "                          0         1          2              3              4\n",
       "price             105000.00  80000.00   67000.00  145000.000000   65000.000000\n",
       "bed                    3.00      4.00       2.00       4.000000       6.000000\n",
       "bath                   2.00      2.00       1.00       2.000000       2.000000\n",
       "acre_lot               0.12      0.08       0.15       0.100000       0.050000\n",
       "state                 41.00     41.00      41.00      41.000000      41.000000\n",
       "house_size           920.00   1527.00     748.00    1800.000000    1760.000000\n",
       "zip_code_encoded   92500.00  92500.00  108112.50  155228.571429  147542.659574"
      ]
     },
     "execution_count": 25,
     "metadata": {},
     "output_type": "execute_result"
    }
   ],
   "source": [
    "df.head().T"
   ]
  },
  {
   "cell_type": "code",
   "execution_count": 26,
   "id": "c4a872c7-31a3-46e5-ad1a-0834e5d07d64",
   "metadata": {},
   "outputs": [
    {
     "name": "stdout",
     "output_type": "stream",
     "text": [
      "price               float64\n",
      "bed                 float64\n",
      "bath                float64\n",
      "acre_lot            float64\n",
      "state                 int32\n",
      "house_size          float64\n",
      "zip_code_encoded    float64\n",
      "dtype: object\n"
     ]
    }
   ],
   "source": [
    "print(df.dtypes)\n"
   ]
  },
  {
   "cell_type": "code",
   "execution_count": 27,
   "id": "f6f05226-0243-4413-8f7d-4946049f853b",
   "metadata": {},
   "outputs": [
    {
     "name": "stdout",
     "output_type": "stream",
     "text": [
      "price                 0\n",
      "bed                   0\n",
      "bath                  0\n",
      "acre_lot              0\n",
      "state                 0\n",
      "house_size            0\n",
      "zip_code_encoded    256\n",
      "dtype: int64\n"
     ]
    }
   ],
   "source": [
    "print(df.isnull().sum())\n"
   ]
  },
  {
   "cell_type": "code",
   "execution_count": 28,
   "id": "94255e02-0eea-4719-9b8c-22c0e47eddd3",
   "metadata": {},
   "outputs": [],
   "source": [
    "for col in df.select_dtypes(include=['float64']).columns:\n",
    "    df[col] = df[col].astype('float32')\n",
    "\n",
    "for col in df.select_dtypes(include=['int64']).columns:\n",
    "    df[col] = df[col].astype('int32')\n"
   ]
  },
  {
   "cell_type": "code",
   "execution_count": 42,
   "id": "053d0bf7-47e1-41ce-b00e-5f704f1e25b6",
   "metadata": {},
   "outputs": [
    {
     "name": "stdout",
     "output_type": "stream",
     "text": [
      "After Conversion:\n",
      "<class 'pandas.core.frame.DataFrame'>\n",
      "Index: 2054782 entries, 0 to 2226381\n",
      "Data columns (total 7 columns):\n",
      " #   Column            Dtype  \n",
      "---  ------            -----  \n",
      " 0   price             float32\n",
      " 1   bed               float32\n",
      " 2   bath              float32\n",
      " 3   acre_lot          float32\n",
      " 4   state             int32  \n",
      " 5   house_size        float32\n",
      " 6   zip_code_encoded  float32\n",
      "dtypes: float32(6), int32(1)\n",
      "memory usage: 70.5 MB\n",
      "None\n"
     ]
    }
   ],
   "source": [
    "\n",
    "\n",
    "print(\"After Conversion:\")\n",
    "print(df.info(memory_usage='deep'))\n"
   ]
  },
  {
   "cell_type": "code",
   "execution_count": 30,
   "id": "96bfb6c4-127b-4555-9796-173f540b5e0f",
   "metadata": {},
   "outputs": [],
   "source": [
    "# from sklearn.preprocessing import StandardScaler\n",
    "\n",
    "numerical_features = ['bed', 'bath', 'acre_lot', 'house_size', 'zip_code_encoded']\n",
    "scaler = StandardScaler()\n",
    "df[numerical_features] = scaler.fit_transform(df[numerical_features])\n"
   ]
  },
  {
   "cell_type": "code",
   "execution_count": 31,
   "id": "0719faeb-93c5-4809-a732-941da1801895",
   "metadata": {},
   "outputs": [
    {
     "name": "stdout",
     "output_type": "stream",
     "text": [
      "price                 0\n",
      "bed                   0\n",
      "bath                  0\n",
      "acre_lot              0\n",
      "state                 0\n",
      "house_size            0\n",
      "zip_code_encoded    256\n",
      "dtype: int64\n"
     ]
    }
   ],
   "source": [
    "print(df.isnull().sum())  # Identify missing values\n"
   ]
  },
  {
   "cell_type": "code",
   "execution_count": 32,
   "id": "45305236-4930-464f-86c8-b1896dc87665",
   "metadata": {},
   "outputs": [
    {
     "data": {
      "image/png": "[encoded data removed]",
      "text/plain": [
       "<Figure size 640x480 with 1 Axes>"
      ]
     },
     "metadata": {},
     "output_type": "display_data"
    }
   ],
   "source": [
    "import matplotlib.pyplot as plt\n",
    "\n",
    "df['zip_code_encoded'].hist(bins=30)\n",
    "plt.title('Distribution of Zip Code Encoded')\n",
    "plt.xlabel('Zip Code Encoded')\n",
    "plt.ylabel('Frequency')\n",
    "plt.show()\n"
   ]
  },
  {
   "cell_type": "code",
   "execution_count": 33,
   "id": "d4ee7c10-7bb9-408a-a3e1-6e6eb8574b72",
   "metadata": {},
   "outputs": [],
   "source": [
    "df['zip_code_encoded'] = df.groupby('state')['zip_code_encoded'].transform(\n",
    "    lambda x: x.fillna(x.mean())\n",
    ")\n"
   ]
  },
  {
   "cell_type": "code",
   "execution_count": 34,
   "id": "bc369a0c-3954-4c6f-8bcf-59629764b67e",
   "metadata": {},
   "outputs": [
    {
     "data": {
      "image/png": "[encoded data removed]",
      "text/plain": [
       "<Figure size 640x480 with 1 Axes>"
      ]
     },
     "metadata": {},
     "output_type": "display_data"
    }
   ],
   "source": [
    "import matplotlib.pyplot as plt\n",
    "\n",
    "df['zip_code_encoded'].hist(bins=30)\n",
    "plt.title('Distribution of Zip Code Encoded')\n",
    "plt.xlabel('Zip Code Encoded')\n",
    "plt.ylabel('Frequency')\n",
    "plt.show()"
   ]
  },
  {
   "cell_type": "code",
   "execution_count": 35,
   "id": "aec3e19a-20ab-402c-b311-b655fdfb15ad",
   "metadata": {},
   "outputs": [],
   "source": [
    "\n",
    "# Define the target variable\n",
    "y = df['price']  # Target variable\n",
    "# Drop the target column and any unwanted columns from the DataFrame\n",
    "X = df.drop(columns=['price'])\n",
    "\n",
    "X_train, X_test, y_train, y_test = train_test_split(X, y, test_size=0.2, random_state=42)\n"
   ]
  },
  {
   "cell_type": "code",
   "execution_count": 36,
   "id": "9462134e-47cb-467f-968f-d6c5cce865a4",
   "metadata": {},
   "outputs": [
    {
     "data": {
      "text/html": [
       "<style>#sk-container-id-1 {\n",
       "  /* Definition of color scheme common for light and dark mode */\n",
       "  --sklearn-color-text: black;\n",
       "  --sklearn-color-line: gray;\n",
       "  /* Definition of color scheme for unfitted estimators */\n",
       "  --sklearn-color-unfitted-level-0: #fff5e6;\n",
       "  --sklearn-color-unfitted-level-1: #f6e4d2;\n",
       "  --sklearn-color-unfitted-level-2: #ffe0b3;\n",
       "  --sklearn-color-unfitted-level-3: chocolate;\n",
       "  /* Definition of color scheme for fitted estimators */\n",
       "  --sklearn-color-fitted-level-0: #f0f8ff;\n",
       "  --sklearn-color-fitted-level-1: #d4ebff;\n",
       "  --sklearn-color-fitted-level-2: #b3dbfd;\n",
       "  --sklearn-color-fitted-level-3: cornflowerblue;\n",
       "\n",
       "  /* Specific color for light theme */\n",
       "  --sklearn-color-text-on-default-background: var(--sg-text-color, var(--theme-code-foreground, var(--jp-content-font-color1, black)));\n",
       "  --sklearn-color-background: var(--sg-background-color, var(--theme-background, var(--jp-layout-color0, white)));\n",
       "  --sklearn-color-border-box: var(--sg-text-color, var(--theme-code-foreground, var(--jp-content-font-color1, black)));\n",
       "  --sklearn-color-icon: #696969;\n",
       "\n",
       "  @media (prefers-color-scheme: dark) {\n",
       "    /* Redefinition of color scheme for dark theme */\n",
       "    --sklearn-color-text-on-default-background: var(--sg-text-color, var(--theme-code-foreground, var(--jp-content-font-color1, white)));\n",
       "    --sklearn-color-background: var(--sg-background-color, var(--theme-background, var(--jp-layout-color0, #111)));\n",
       "    --sklearn-color-border-box: var(--sg-text-color, var(--theme-code-foreground, var(--jp-content-font-color1, white)));\n",
       "    --sklearn-color-icon: #878787;\n",
       "  }\n",
       "}\n",
       "\n",
       "#sk-container-id-1 {\n",
       "  color: var(--sklearn-color-text);\n",
       "}\n",
       "\n",
       "#sk-container-id-1 pre {\n",
       "  padding: 0;\n",
       "}\n",
       "\n",
       "#sk-container-id-1 input.sk-hidden--visually {\n",
       "  border: 0;\n",
       "  clip: rect(1px 1px 1px 1px);\n",
       "  clip: rect(1px, 1px, 1px, 1px);\n",
       "  height: 1px;\n",
       "  margin: -1px;\n",
       "  overflow: hidden;\n",
       "  padding: 0;\n",
       "  position: absolute;\n",
       "  width: 1px;\n",
       "}\n",
       "\n",
       "#sk-container-id-1 div.sk-dashed-wrapped {\n",
       "  border: 1px dashed var(--sklearn-color-line);\n",
       "  margin: 0 0.4em 0.5em 0.4em;\n",
       "  box-sizing: border-box;\n",
       "  padding-bottom: 0.4em;\n",
       "  background-color: var(--sklearn-color-background);\n",
       "}\n",
       "\n",
       "#sk-container-id-1 div.sk-container {\n",
       "  /* jupyter's `normalize.less` sets `[hidden] { display: none; }`\n",
       "     but bootstrap.min.css set `[hidden] { display: none !important; }`\n",
       "     so we also need the `!important` here to be able to override the\n",
       "     default hidden behavior on the sphinx rendered scikit-learn.org.\n",
       "     See: https://github.com/scikit-learn/scikit-learn/issues/21755 */\n",
       "  display: inline-block !important;\n",
       "  position: relative;\n",
       "}\n",
       "\n",
       "#sk-container-id-1 div.sk-text-repr-fallback {\n",
       "  display: none;\n",
       "}\n",
       "\n",
       "div.sk-parallel-item,\n",
       "div.sk-serial,\n",
       "div.sk-item {\n",
       "  /* draw centered vertical line to link estimators */\n",
       "  background-image: linear-gradient(var(--sklearn-color-text-on-default-background), var(--sklearn-color-text-on-default-background));\n",
       "  background-size: 2px 100%;\n",
       "  background-repeat: no-repeat;\n",
       "  background-position: center center;\n",
       "}\n",
       "\n",
       "/* Parallel-specific style estimator block */\n",
       "\n",
       "#sk-container-id-1 div.sk-parallel-item::after {\n",
       "  content: \"\";\n",
       "  width: 100%;\n",
       "  border-bottom: 2px solid var(--sklearn-color-text-on-default-background);\n",
       "  flex-grow: 1;\n",
       "}\n",
       "\n",
       "#sk-container-id-1 div.sk-parallel {\n",
       "  display: flex;\n",
       "  align-items: stretch;\n",
       "  justify-content: center;\n",
       "  background-color: var(--sklearn-color-background);\n",
       "  position: relative;\n",
       "}\n",
       "\n",
       "#sk-container-id-1 div.sk-parallel-item {\n",
       "  display: flex;\n",
       "  flex-direction: column;\n",
       "}\n",
       "\n",
       "#sk-container-id-1 div.sk-parallel-item:first-child::after {\n",
       "  align-self: flex-end;\n",
       "  width: 50%;\n",
       "}\n",
       "\n",
       "#sk-container-id-1 div.sk-parallel-item:last-child::after {\n",
       "  align-self: flex-start;\n",
       "  width: 50%;\n",
       "}\n",
       "\n",
       "#sk-container-id-1 div.sk-parallel-item:only-child::after {\n",
       "  width: 0;\n",
       "}\n",
       "\n",
       "/* Serial-specific style estimator block */\n",
       "\n",
       "#sk-container-id-1 div.sk-serial {\n",
       "  display: flex;\n",
       "  flex-direction: column;\n",
       "  align-items: center;\n",
       "  background-color: var(--sklearn-color-background);\n",
       "  padding-right: 1em;\n",
       "  padding-left: 1em;\n",
       "}\n",
       "\n",
       "\n",
       "/* Toggleable style: style used for estimator/Pipeline/ColumnTransformer box that is\n",
       "clickable and can be expanded/collapsed.\n",
       "- Pipeline and ColumnTransformer use this feature and define the default style\n",
       "- Estimators will overwrite some part of the style using the `sk-estimator` class\n",
       "*/\n",
       "\n",
       "/* Pipeline and ColumnTransformer style (default) */\n",
       "\n",
       "#sk-container-id-1 div.sk-toggleable {\n",
       "  /* Default theme specific background. It is overwritten whether we have a\n",
       "  specific estimator or a Pipeline/ColumnTransformer */\n",
       "  background-color: var(--sklearn-color-background);\n",
       "}\n",
       "\n",
       "/* Toggleable label */\n",
       "#sk-container-id-1 label.sk-toggleable__label {\n",
       "  cursor: pointer;\n",
       "  display: block;\n",
       "  width: 100%;\n",
       "  margin-bottom: 0;\n",
       "  padding: 0.5em;\n",
       "  box-sizing: border-box;\n",
       "  text-align: center;\n",
       "}\n",
       "\n",
       "#sk-container-id-1 label.sk-toggleable__label-arrow:before {\n",
       "  /* Arrow on the left of the label */\n",
       "  content: \"▸\";\n",
       "  float: left;\n",
       "  margin-right: 0.25em;\n",
       "  color: var(--sklearn-color-icon);\n",
       "}\n",
       "\n",
       "#sk-container-id-1 label.sk-toggleable__label-arrow:hover:before {\n",
       "  color: var(--sklearn-color-text);\n",
       "}\n",
       "\n",
       "/* Toggleable content - dropdown */\n",
       "\n",
       "#sk-container-id-1 div.sk-toggleable__content {\n",
       "  max-height: 0;\n",
       "  max-width: 0;\n",
       "  overflow: hidden;\n",
       "  text-align: left;\n",
       "  /* unfitted */\n",
       "  background-color: var(--sklearn-color-unfitted-level-0);\n",
       "}\n",
       "\n",
       "#sk-container-id-1 div.sk-toggleable__content.fitted {\n",
       "  /* fitted */\n",
       "  background-color: var(--sklearn-color-fitted-level-0);\n",
       "}\n",
       "\n",
       "#sk-container-id-1 div.sk-toggleable__content pre {\n",
       "  margin: 0.2em;\n",
       "  border-radius: 0.25em;\n",
       "  color: var(--sklearn-color-text);\n",
       "  /* unfitted */\n",
       "  background-color: var(--sklearn-color-unfitted-level-0);\n",
       "}\n",
       "\n",
       "#sk-container-id-1 div.sk-toggleable__content.fitted pre {\n",
       "  /* unfitted */\n",
       "  background-color: var(--sklearn-color-fitted-level-0);\n",
       "}\n",
       "\n",
       "#sk-container-id-1 input.sk-toggleable__control:checked~div.sk-toggleable__content {\n",
       "  /* Expand drop-down */\n",
       "  max-height: 200px;\n",
       "  max-width: 100%;\n",
       "  overflow: auto;\n",
       "}\n",
       "\n",
       "#sk-container-id-1 input.sk-toggleable__control:checked~label.sk-toggleable__label-arrow:before {\n",
       "  content: \"▾\";\n",
       "}\n",
       "\n",
       "/* Pipeline/ColumnTransformer-specific style */\n",
       "\n",
       "#sk-container-id-1 div.sk-label input.sk-toggleable__control:checked~label.sk-toggleable__label {\n",
       "  color: var(--sklearn-color-text);\n",
       "  background-color: var(--sklearn-color-unfitted-level-2);\n",
       "}\n",
       "\n",
       "#sk-container-id-1 div.sk-label.fitted input.sk-toggleable__control:checked~label.sk-toggleable__label {\n",
       "  background-color: var(--sklearn-color-fitted-level-2);\n",
       "}\n",
       "\n",
       "/* Estimator-specific style */\n",
       "\n",
       "/* Colorize estimator box */\n",
       "#sk-container-id-1 div.sk-estimator input.sk-toggleable__control:checked~label.sk-toggleable__label {\n",
       "  /* unfitted */\n",
       "  background-color: var(--sklearn-color-unfitted-level-2);\n",
       "}\n",
       "\n",
       "#sk-container-id-1 div.sk-estimator.fitted input.sk-toggleable__control:checked~label.sk-toggleable__label {\n",
       "  /* fitted */\n",
       "  background-color: var(--sklearn-color-fitted-level-2);\n",
       "}\n",
       "\n",
       "#sk-container-id-1 div.sk-label label.sk-toggleable__label,\n",
       "#sk-container-id-1 div.sk-label label {\n",
       "  /* The background is the default theme color */\n",
       "  color: var(--sklearn-color-text-on-default-background);\n",
       "}\n",
       "\n",
       "/* On hover, darken the color of the background */\n",
       "#sk-container-id-1 div.sk-label:hover label.sk-toggleable__label {\n",
       "  color: var(--sklearn-color-text);\n",
       "  background-color: var(--sklearn-color-unfitted-level-2);\n",
       "}\n",
       "\n",
       "/* Label box, darken color on hover, fitted */\n",
       "#sk-container-id-1 div.sk-label.fitted:hover label.sk-toggleable__label.fitted {\n",
       "  color: var(--sklearn-color-text);\n",
       "  background-color: var(--sklearn-color-fitted-level-2);\n",
       "}\n",
       "\n",
       "/* Estimator label */\n",
       "\n",
       "#sk-container-id-1 div.sk-label label {\n",
       "  font-family: monospace;\n",
       "  font-weight: bold;\n",
       "  display: inline-block;\n",
       "  line-height: 1.2em;\n",
       "}\n",
       "\n",
       "#sk-container-id-1 div.sk-label-container {\n",
       "  text-align: center;\n",
       "}\n",
       "\n",
       "/* Estimator-specific */\n",
       "#sk-container-id-1 div.sk-estimator {\n",
       "  font-family: monospace;\n",
       "  border: 1px dotted var(--sklearn-color-border-box);\n",
       "  border-radius: 0.25em;\n",
       "  box-sizing: border-box;\n",
       "  margin-bottom: 0.5em;\n",
       "  /* unfitted */\n",
       "  background-color: var(--sklearn-color-unfitted-level-0);\n",
       "}\n",
       "\n",
       "#sk-container-id-1 div.sk-estimator.fitted {\n",
       "  /* fitted */\n",
       "  background-color: var(--sklearn-color-fitted-level-0);\n",
       "}\n",
       "\n",
       "/* on hover */\n",
       "#sk-container-id-1 div.sk-estimator:hover {\n",
       "  /* unfitted */\n",
       "  background-color: var(--sklearn-color-unfitted-level-2);\n",
       "}\n",
       "\n",
       "#sk-container-id-1 div.sk-estimator.fitted:hover {\n",
       "  /* fitted */\n",
       "  background-color: var(--sklearn-color-fitted-level-2);\n",
       "}\n",
       "\n",
       "/* Specification for estimator info (e.g. \"i\" and \"?\") */\n",
       "\n",
       "/* Common style for \"i\" and \"?\" */\n",
       "\n",
       ".sk-estimator-doc-link,\n",
       "a:link.sk-estimator-doc-link,\n",
       "a:visited.sk-estimator-doc-link {\n",
       "  float: right;\n",
       "  font-size: smaller;\n",
       "  line-height: 1em;\n",
       "  font-family: monospace;\n",
       "  background-color: var(--sklearn-color-background);\n",
       "  border-radius: 1em;\n",
       "  height: 1em;\n",
       "  width: 1em;\n",
       "  text-decoration: none !important;\n",
       "  margin-left: 1ex;\n",
       "  /* unfitted */\n",
       "  border: var(--sklearn-color-unfitted-level-1) 1pt solid;\n",
       "  color: var(--sklearn-color-unfitted-level-1);\n",
       "}\n",
       "\n",
       ".sk-estimator-doc-link.fitted,\n",
       "a:link.sk-estimator-doc-link.fitted,\n",
       "a:visited.sk-estimator-doc-link.fitted {\n",
       "  /* fitted */\n",
       "  border: var(--sklearn-color-fitted-level-1) 1pt solid;\n",
       "  color: var(--sklearn-color-fitted-level-1);\n",
       "}\n",
       "\n",
       "/* On hover */\n",
       "div.sk-estimator:hover .sk-estimator-doc-link:hover,\n",
       ".sk-estimator-doc-link:hover,\n",
       "div.sk-label-container:hover .sk-estimator-doc-link:hover,\n",
       ".sk-estimator-doc-link:hover {\n",
       "  /* unfitted */\n",
       "  background-color: var(--sklearn-color-unfitted-level-3);\n",
       "  color: var(--sklearn-color-background);\n",
       "  text-decoration: none;\n",
       "}\n",
       "\n",
       "div.sk-estimator.fitted:hover .sk-estimator-doc-link.fitted:hover,\n",
       ".sk-estimator-doc-link.fitted:hover,\n",
       "div.sk-label-container:hover .sk-estimator-doc-link.fitted:hover,\n",
       ".sk-estimator-doc-link.fitted:hover {\n",
       "  /* fitted */\n",
       "  background-color: var(--sklearn-color-fitted-level-3);\n",
       "  color: var(--sklearn-color-background);\n",
       "  text-decoration: none;\n",
       "}\n",
       "\n",
       "/* Span, style for the box shown on hovering the info icon */\n",
       ".sk-estimator-doc-link span {\n",
       "  display: none;\n",
       "  z-index: 9999;\n",
       "  position: relative;\n",
       "  font-weight: normal;\n",
       "  right: .2ex;\n",
       "  padding: .5ex;\n",
       "  margin: .5ex;\n",
       "  width: min-content;\n",
       "  min-width: 20ex;\n",
       "  max-width: 50ex;\n",
       "  color: var(--sklearn-color-text);\n",
       "  box-shadow: 2pt 2pt 4pt #999;\n",
       "  /* unfitted */\n",
       "  background: var(--sklearn-color-unfitted-level-0);\n",
       "  border: .5pt solid var(--sklearn-color-unfitted-level-3);\n",
       "}\n",
       "\n",
       ".sk-estimator-doc-link.fitted span {\n",
       "  /* fitted */\n",
       "  background: var(--sklearn-color-fitted-level-0);\n",
       "  border: var(--sklearn-color-fitted-level-3);\n",
       "}\n",
       "\n",
       ".sk-estimator-doc-link:hover span {\n",
       "  display: block;\n",
       "}\n",
       "\n",
       "/* \"?\"-specific style due to the `<a>` HTML tag */\n",
       "\n",
       "#sk-container-id-1 a.estimator_doc_link {\n",
       "  float: right;\n",
       "  font-size: 1rem;\n",
       "  line-height: 1em;\n",
       "  font-family: monospace;\n",
       "  background-color: var(--sklearn-color-background);\n",
       "  border-radius: 1rem;\n",
       "  height: 1rem;\n",
       "  width: 1rem;\n",
       "  text-decoration: none;\n",
       "  /* unfitted */\n",
       "  color: var(--sklearn-color-unfitted-level-1);\n",
       "  border: var(--sklearn-color-unfitted-level-1) 1pt solid;\n",
       "}\n",
       "\n",
       "#sk-container-id-1 a.estimator_doc_link.fitted {\n",
       "  /* fitted */\n",
       "  border: var(--sklearn-color-fitted-level-1) 1pt solid;\n",
       "  color: var(--sklearn-color-fitted-level-1);\n",
       "}\n",
       "\n",
       "/* On hover */\n",
       "#sk-container-id-1 a.estimator_doc_link:hover {\n",
       "  /* unfitted */\n",
       "  background-color: var(--sklearn-color-unfitted-level-3);\n",
       "  color: var(--sklearn-color-background);\n",
       "  text-decoration: none;\n",
       "}\n",
       "\n",
       "#sk-container-id-1 a.estimator_doc_link.fitted:hover {\n",
       "  /* fitted */\n",
       "  background-color: var(--sklearn-color-fitted-level-3);\n",
       "}\n",
       "</style><div id=\"sk-container-id-1\" class=\"sk-top-container\"><div class=\"sk-text-repr-fallback\"><pre>RandomForestRegressor(n_estimators=50, random_state=42)</pre><b>In a Jupyter environment, please rerun this cell to show the HTML representation or trust the notebook. <br />On GitHub, the HTML representation is unable to render, please try loading this page with nbviewer.org.</b></div><div class=\"sk-container\" hidden><div class=\"sk-item\"><div class=\"sk-estimator fitted sk-toggleable\"><input class=\"sk-toggleable__control sk-hidden--visually\" id=\"sk-estimator-id-1\" type=\"checkbox\" checked><label for=\"sk-estimator-id-1\" class=\"sk-toggleable__label fitted sk-toggleable__label-arrow fitted\">&nbsp;&nbsp;RandomForestRegressor<a class=\"sk-estimator-doc-link fitted\" rel=\"noreferrer\" target=\"_blank\" href=\"https://scikit-learn.org/1.5/modules/generated/sklearn.ensemble.RandomForestRegressor.html\">?<span>Documentation for RandomForestRegressor</span></a><span class=\"sk-estimator-doc-link fitted\">i<span>Fitted</span></span></label><div class=\"sk-toggleable__content fitted\"><pre>RandomForestRegressor(n_estimators=50, random_state=42)</pre></div> </div></div></div></div>"
      ],
      "text/plain": [
       "RandomForestRegressor(n_estimators=50, random_state=42)"
      ]
     },
     "execution_count": 36,
     "metadata": {},
     "output_type": "execute_result"
    }
   ],
   "source": [
    "# model = LinearRegression()\n",
    "# model.fit(X_train, y_train)\\\n",
    "model = RandomForestRegressor(n_estimators=50, random_state=42)\n",
    "model.fit(X_train, y_train)"
   ]
  },
  {
   "cell_type": "code",
   "execution_count": 37,
   "id": "71893b81-e47c-4948-9311-682aa129ebb1",
   "metadata": {
    "scrolled": true
   },
   "outputs": [
    {
     "name": "stdout",
     "output_type": "stream",
     "text": [
      "R^2 Score: 0.7919696791992775\n",
      "RMSE: 111436.1773473831\n",
      "MAE: 69891.23066831853\n"
     ]
    }
   ],
   "source": [
    "# Predictions\n",
    "y_pred = model.predict(X_test)\n",
    "\n",
    "# Metrics\n",
    "print(\"R^2 Score:\", r2_score(y_test, y_pred))\n",
    "print(\"RMSE:\", np.sqrt(mean_squared_error(y_test, y_pred)))\n",
    "print(\"MAE:\", mean_absolute_error(y_test, y_pred))"
   ]
  },
  {
   "cell_type": "code",
   "execution_count": 38,
   "id": "e4b8ea66-bb9f-4449-81c3-0a087ee9a606",
   "metadata": {},
   "outputs": [],
   "source": [
    "# poly = PolynomialFeatures(degree=2, include_bias=False)\n",
    "# X_poly = poly.fit_transform(X)"
   ]
  },
  {
   "cell_type": "code",
   "execution_count": 39,
   "id": "cd3a6f08-d808-4d1e-aec9-ff90111158e6",
   "metadata": {},
   "outputs": [
    {
     "name": "stdout",
     "output_type": "stream",
     "text": [
      "bed: 0.018334906820221576\n",
      "bath: 0.030393469199539943\n",
      "acre_lot: 0.1085702837963079\n",
      "state: 0.05411643717919263\n",
      "house_size: 0.24587938684664057\n",
      "zip_code_encoded: 0.5427055161580975\n"
     ]
    }
   ],
   "source": [
    "importances = model.feature_importances_\n",
    "for feature, importance in zip(X.columns, importances):\n",
    "    print(f\"{feature}: {importance}\")\n"
   ]
  },
  {
   "cell_type": "code",
   "execution_count": 40,
   "id": "842f1e75-dced-40d6-b882-0e82fe7d5a76",
   "metadata": {},
   "outputs": [],
   "source": [
    "# from sklearn.model_selection import RandomizedSearchCV\n",
    "\n",
    "# param_dist = {\n",
    "#     'n_estimators': [50, 100],\n",
    "#     'max_depth': [None, 10, 20],\n",
    "#     'min_samples_split': [2, 5],\n",
    "#     'min_samples_leaf': [1, 2]\n",
    "# }\n",
    "\n",
    "# random_search = RandomizedSearchCV(\n",
    "#     estimator=model, \n",
    "#     param_distributions=param_dist, \n",
    "#     n_iter=5,  # Number of random combinations to test\n",
    "#     cv=3,       # Cross-validation folds\n",
    "#     random_state=42,\n",
    "#     verbose=1,\n",
    "#     n_jobs=-1   # Parallelize\n",
    "# )\n",
    "# random_search.fit(X_train, y_train)\n",
    "# print(\"Best Parameters:\", random_search.best_params_)\n"
   ]
  },
  {
   "cell_type": "code",
   "execution_count": 41,
   "id": "089a40f4-00ba-463f-bfe2-f218456c2ba7",
   "metadata": {},
   "outputs": [
    {
     "data": {
      "text/plain": [
       "['house_price_model_v1.pkl']"
      ]
     },
     "execution_count": 41,
     "metadata": {},
     "output_type": "execute_result"
    }
   ],
   "source": [
    "import joblib\n",
    "\n",
    "# Save the model to a file\n",
    "joblib.dump(model, 'house_price_model_v1.pkl')\n"
   ]
  }
 ],
 "metadata": {
  "kernelspec": {
   "display_name": "Python 3 (ipykernel)",
   "language": "python",
   "name": "python3"
  },
  "language_info": {
   "codemirror_mode": {
    "name": "ipython",
    "version": 3
   },
   "file_extension": ".py",
   "mimetype": "text/x-python",
   "name": "python",
   "nbconvert_exporter": "python",
   "pygments_lexer": "ipython3",
   "version": "3.12.8"
  },
  "widgets": {
   "application/vnd.jupyter.widget-state+json": {
    "state": {},
    "version_major": 2,
    "version_minor": 0
   }
  }
 },
 "nbformat": 4,
 "nbformat_minor": 5
}
